{
 "cells": [
  {
   "cell_type": "code",
   "execution_count": 1,
   "metadata": {},
   "outputs": [
    {
     "name": "stderr",
     "output_type": "stream",
     "text": [
      "Using TensorFlow backend.\n"
     ]
    }
   ],
   "source": [
    "import os\n",
    "import keras\n",
    "import numpy as np\n",
    "import matplotlib.pyplot as plt\n",
    "\n",
    "%matplotlib notebook"
   ]
  },
  {
   "cell_type": "code",
   "execution_count": 100,
   "metadata": {},
   "outputs": [
    {
     "name": "stdout",
     "output_type": "stream",
     "text": [
      "matrices_0 : (2070, 68, 53)\n",
      "matrices_0 : (2070, 68, 53)\n",
      "matrices_0 : (2070, 68, 53)\n",
      "matrices_0 : (2070, 68, 53)\n",
      "\n",
      "Final data : (8280, 68, 53)\n"
     ]
    }
   ],
   "source": [
    "########################\n",
    "##    Reading data    ##\n",
    "########################\n",
    "\n",
    "matrices_0 = np.load('matrix_data/matrices_0.npy')\n",
    "matrices_1 = np.load('matrix_data/matrices_1.npy')\n",
    "matrices_2 = np.load('matrix_data/matrices_2.npy')\n",
    "matrices_3 = np.load('matrix_data/matrices_3.npy')\n",
    "\n",
    "print('matrices_0 :', matrices_0.shape)\n",
    "print('matrices_0 :', matrices_1.shape)\n",
    "print('matrices_0 :', matrices_2.shape)\n",
    "print('matrices_0 :', matrices_3.shape, end='\\n\\n')\n",
    "\n",
    "data = np.row_stack((matrices_0,\n",
    "                     matrices_1,\n",
    "                     matrices_2,\n",
    "                     matrices_3))\n",
    "\n",
    "print('Final data :', data.shape)"
   ]
  },
  {
   "cell_type": "code",
   "execution_count": 68,
   "metadata": {},
   "outputs": [
    {
     "name": "stdout",
     "output_type": "stream",
     "text": [
      "days_input : (8280, 68, 53)\n"
     ]
    }
   ],
   "source": [
    "############################\n",
    "##    Days range input    ##\n",
    "############################\n",
    "\n",
    "start = np.zeros(data[0].shape)\n",
    "days_input = np.array([start+i for i in range(data.shape[0])]).astype(int)\n",
    "days_input %= 31\n",
    "days_input = days_input / np.max(days_input)\n",
    "print('days_input :', days_input.shape)"
   ]
  },
  {
   "cell_type": "code",
   "execution_count": 74,
   "metadata": {},
   "outputs": [
    {
     "name": "stdout",
     "output_type": "stream",
     "text": [
      "months_input : (8280, 68, 53)\n"
     ]
    }
   ],
   "source": [
    "##############################\n",
    "##    Months range input    ##\n",
    "##############################\n",
    "\n",
    "start = np.zeros(data[0].shape)\n",
    "months_input = np.array([start+i for i in range(data.shape[0])]).astype(int)\n",
    "months_input //= 31\n",
    "months_input %= 12\n",
    "months_input = months_input / np.max(months_input)\n",
    "print('months_input :', months_input.shape)"
   ]
  },
  {
   "cell_type": "code",
   "execution_count": 101,
   "metadata": {},
   "outputs": [
    {
     "name": "stdout",
     "output_type": "stream",
     "text": [
      "\n",
      "????   ?????  ?????   ???   ????   ?????\n",
      "?   ?  ?      ?      ?   ?  ?   ?  ?\n",
      "????   ????   ????   ?   ?  ????   ????\n",
      "?   ?  ?      ?      ?   ?  ?  ?   ?\n",
      "?   ?  ?      ?      ?   ?  ?   ?  ?\n",
      "????   ?????  ?       ???   ?   ?  ????? \n",
      "\n",
      "data : (8280, 68, 53)\n",
      "\n",
      "\n",
      " ???   ?????  ?????  ?????  ????   \n",
      "?   ?  ?        ?    ?      ?   ?  \n",
      "?????  ????     ?    ????   ????\n",
      "?   ?  ?        ?    ?      ?  ?\n",
      "?   ?  ?        ?    ?      ?   ?\n",
      "?   ?  ?        ?    ?????  ?   ?\n",
      "\n",
      "input_data   : (8280, 68, 53, 2)\n",
      "target_data  : (8280, 68, 53)\n"
     ]
    }
   ],
   "source": [
    "print(\"\"\"\n",
    "????   ?????  ?????   ???   ????   ?????\n",
    "?   ?  ?      ?      ?   ?  ?   ?  ?\n",
    "????   ????   ????   ?   ?  ????   ????\n",
    "?   ?  ?      ?      ?   ?  ?  ?   ?\n",
    "?   ?  ?      ?      ?   ?  ?   ?  ?\n",
    "????   ?????  ?       ???   ?   ?  ????? \n",
    "\"\"\")\n",
    "print('data :', data.shape)\n",
    "#############################################\n",
    "input_data = np.stack((data, months_input), axis=3)\n",
    "target_data = data\n",
    "#############################################\n",
    "print(\"\"\"\n",
    "\n",
    " ???   ?????  ?????  ?????  ????   \n",
    "?   ?  ?        ?    ?      ?   ?  \n",
    "?????  ????     ?    ????   ????\n",
    "?   ?  ?        ?    ?      ?  ?\n",
    "?   ?  ?        ?    ?      ?   ?\n",
    "?   ?  ?        ?    ?????  ?   ?\n",
    "\"\"\")\n",
    "print('input_data   :', input_data.shape)\n",
    "print('target_data  :', target_data.shape)"
   ]
  },
  {
   "cell_type": "code",
   "execution_count": 109,
   "metadata": {},
   "outputs": [
    {
     "name": "stdout",
     "output_type": "stream",
     "text": [
      "train_input  : (7421, 68, 53, 2)\n",
      "train_target : (7421, 68, 53)\n",
      "\n",
      "test_input   : (797, 68, 53, 2)\n",
      "test_target  : (797, 68, 53)\n"
     ]
    }
   ],
   "source": [
    "############################\n",
    "##    Train-Test Split    ##\n",
    "############################\n",
    "\n",
    "train_input = input_data[:9*input_data.shape[0]//10][:-31]\n",
    "test_input = input_data[9*input_data.shape[0]//10:][:-31]\n",
    "\n",
    "train_target = np.roll(target_data[:9*target_data.shape[0]//10],-31,axis=0)[:-31]\n",
    "test_target = np.roll(target_data[9*target_data.shape[0]//10:],-31,axis=0)[:-31]\n",
    "\n",
    "np.save('train_input.npy', train_input)\n",
    "np.save('train_target.npy', train_target)\n",
    "#########################################\n",
    "np.save('test_input.npy', test_input)\n",
    "np.save('test_target.npy', test_target)\n",
    "\n",
    "print('train_input  :', train_input.shape)\n",
    "print('train_target :', train_target.shape, end='\\n\\n')\n",
    "print('test_input   :', test_input.shape)\n",
    "print('test_target  :', test_target.shape)"
   ]
  },
  {
   "cell_type": "code",
   "execution_count": 116,
   "metadata": {},
   "outputs": [
    {
     "name": "stdout",
     "output_type": "stream",
     "text": [
      "_________________________________________________________________\n",
      "Layer (type)                 Output Shape              Param #   \n",
      "=================================================================\n",
      "input_7 (InputLayer)         (None, 68, 53, 2)         0         \n",
      "_________________________________________________________________\n",
      "flatten_7 (Flatten)          (None, 7208)              0         \n",
      "_________________________________________________________________\n",
      "dense_19 (Dense)             (None, 128)               922752    \n",
      "_________________________________________________________________\n",
      "dense_20 (Dense)             (None, 128)               16512     \n",
      "_________________________________________________________________\n",
      "dense_21 (Dense)             (None, 3604)              464916    \n",
      "_________________________________________________________________\n",
      "activation_7 (Activation)    (None, 3604)              0         \n",
      "_________________________________________________________________\n",
      "reshape_7 (Reshape)          (None, 68, 53)            0         \n",
      "=================================================================\n",
      "Total params: 1,404,180\n",
      "Trainable params: 1,404,180\n",
      "Non-trainable params: 0\n",
      "_________________________________________________________________\n"
     ]
    }
   ],
   "source": [
    "#################\n",
    "##    Model    ##\n",
    "#################\n",
    "\n",
    "input_matrix = keras.layers.Input(shape=train_input[0].shape)\n",
    "\n",
    "logit = keras.layers.Flatten()(input_matrix)\n",
    "logit = keras.layers.Dense(128, activation='tanh')(logit)\n",
    "logit = keras.layers.Dense(128, activation='tanh')(logit)\n",
    "logit = keras.layers.Dense(3604, activation='linear')(logit)\n",
    "logit = keras.layers.Activation('relu')(logit)\n",
    "logit = keras.layers.Reshape(train_target[0].shape)(logit)\n",
    "\n",
    "model = keras.models.Model(inputs=input_matrix, outputs=logit)\n",
    "\n",
    "model.summary()"
   ]
  },
  {
   "cell_type": "code",
   "execution_count": 117,
   "metadata": {},
   "outputs": [],
   "source": [
    "##########################################\n",
    "##   Compiling the model with L1 loss   ##\n",
    "##########################################\n",
    "\n",
    "model.compile(loss='mae', optimizer=keras.optimizers.Adam(lr=0.001))"
   ]
  },
  {
   "cell_type": "code",
   "execution_count": 118,
   "metadata": {
    "scrolled": true
   },
   "outputs": [
    {
     "name": "stdout",
     "output_type": "stream",
     "text": [
      "Train on 1 samples, validate on 797 samples\n",
      "Epoch 1/10\n",
      "1/1 [==============================] - 1s 592ms/step - loss: 1.2267 - val_loss: 1.3601\n",
      "Epoch 2/10\n",
      "1/1 [==============================] - 0s 166ms/step - loss: 1.2221 - val_loss: 1.3589\n",
      "Epoch 3/10\n",
      "1/1 [==============================] - 0s 160ms/step - loss: 1.2029 - val_loss: 1.3566\n",
      "Epoch 4/10\n",
      "1/1 [==============================] - 0s 166ms/step - loss: 1.1853 - val_loss: 1.3540\n",
      "Epoch 5/10\n",
      "1/1 [==============================] - 0s 166ms/step - loss: 1.1722 - val_loss: 1.3509\n",
      "Epoch 6/10\n",
      "1/1 [==============================] - 0s 189ms/step - loss: 1.1633 - val_loss: 1.3477\n",
      "Epoch 7/10\n",
      "1/1 [==============================] - 0s 181ms/step - loss: 1.1581 - val_loss: 1.3445\n",
      "Epoch 8/10\n",
      "1/1 [==============================] - 0s 153ms/step - loss: 1.1532 - val_loss: 1.3415\n",
      "Epoch 9/10\n",
      "1/1 [==============================] - 0s 149ms/step - loss: 1.1491 - val_loss: 1.3387\n",
      "Epoch 10/10\n",
      "1/1 [==============================] - 0s 167ms/step - loss: 1.1446 - val_loss: 1.3361\n"
     ]
    },
    {
     "data": {
      "text/plain": [
       "<keras.callbacks.History at 0x7f402202d390>"
      ]
     },
     "execution_count": 118,
     "metadata": {},
     "output_type": "execute_result"
    }
   ],
   "source": [
    "############################\n",
    "##   Training the model   ##\n",
    "############################\n",
    "\n",
    "model.fit(x=train_input[:1], y=train_target[:1],\n",
    "          epochs=1000,\n",
    "          batch_size=32,\n",
    "          validation_data=(test_input, test_target))"
   ]
  },
  {
   "cell_type": "code",
   "execution_count": 115,
   "metadata": {},
   "outputs": [],
   "source": [
    "###################################\n",
    "##   Saving the resulted model   ##\n",
    "###################################\n",
    "\n",
    "model.save('model_1.h5')"
   ]
  },
  {
   "cell_type": "code",
   "execution_count": null,
   "metadata": {},
   "outputs": [],
   "source": []
  }
 ],
 "metadata": {
  "kernelspec": {
   "display_name": "Python 3",
   "language": "python",
   "name": "python3"
  },
  "language_info": {
   "codemirror_mode": {
    "name": "ipython",
    "version": 3
   },
   "file_extension": ".py",
   "mimetype": "text/x-python",
   "name": "python",
   "nbconvert_exporter": "python",
   "pygments_lexer": "ipython3",
   "version": "3.8.8"
  }
 },
 "nbformat": 4,
 "nbformat_minor": 2
}
