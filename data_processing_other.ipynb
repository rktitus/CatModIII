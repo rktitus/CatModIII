{
 "cells": [
  {
   "cell_type": "code",
   "execution_count": 109,
   "metadata": {},
   "outputs": [],
   "source": [
    "import os\n",
    "import pickle\n",
    "import datetime\n",
    "import threading\n",
    "import numpy as np\n",
    "import pandas as pd\n",
    "import multiprocessing\n",
    "from tqdm import tqdm, tqdm_notebook\n",
    "from matplotlib import pyplot as plt\n",
    "\n",
    "%matplotlib notebook"
   ]
  },
  {
   "cell_type": "markdown",
   "metadata": {},
   "source": [
    "# What is done\n",
    "<br>\n",
    "The splitting for each data-point will be done day by day:\n",
    "\n",
    "Like:\n",
    "               \n",
    "        ____   ____   ____   ____   ____            ____   ____   ____\n",
    "      _/1day\\_/1day\\_/1day\\_/1day\\_/1day\\........._/1day\\_/1day\\_/1day\\\n",
    "    1996.01------1996.07------1997.01------1997.07---------------2018.01\n",
    "    ____________________________________________________________________\n",
    "\n",
    "So as a result we are getting a vector each element of which shows how many events occured the corresponding day. This format is needed for Poisson Regression model that we are going to implement.\n",
    "<br> <br>"
   ]
  },
  {
   "cell_type": "code",
   "execution_count": 74,
   "metadata": {},
   "outputs": [
    {
     "name": "stdout",
     "output_type": "stream",
     "text": [
      "data : (1301399, 5)\n"
     ]
    },
    {
     "data": {
      "text/html": [
       "<div>\n",
       "<style scoped>\n",
       "    .dataframe tbody tr th:only-of-type {\n",
       "        vertical-align: middle;\n",
       "    }\n",
       "\n",
       "    .dataframe tbody tr th {\n",
       "        vertical-align: top;\n",
       "    }\n",
       "\n",
       "    .dataframe thead th {\n",
       "        text-align: right;\n",
       "    }\n",
       "</style>\n",
       "<table border=\"1\" class=\"dataframe\">\n",
       "  <thead>\n",
       "    <tr style=\"text-align: right;\">\n",
       "      <th></th>\n",
       "      <th>STATE</th>\n",
       "      <th>EVENT_TYPE</th>\n",
       "      <th>BEGIN_YEARMONTH</th>\n",
       "      <th>DATE</th>\n",
       "      <th>DIST_FROM_START</th>\n",
       "    </tr>\n",
       "  </thead>\n",
       "  <tbody>\n",
       "    <tr>\n",
       "      <th>22087</th>\n",
       "      <td>NEW JERSEY</td>\n",
       "      <td>Astronomical Low Tide</td>\n",
       "      <td>199703</td>\n",
       "      <td>1997-03-12</td>\n",
       "      <td>17226</td>\n",
       "    </tr>\n",
       "    <tr>\n",
       "      <th>22088</th>\n",
       "      <td>NEW JERSEY</td>\n",
       "      <td>Astronomical Low Tide</td>\n",
       "      <td>199703</td>\n",
       "      <td>1997-03-01</td>\n",
       "      <td>17215</td>\n",
       "    </tr>\n",
       "    <tr>\n",
       "      <th>22089</th>\n",
       "      <td>NEW JERSEY</td>\n",
       "      <td>Astronomical Low Tide</td>\n",
       "      <td>199703</td>\n",
       "      <td>1997-03-14</td>\n",
       "      <td>17228</td>\n",
       "    </tr>\n",
       "    <tr>\n",
       "      <th>26506</th>\n",
       "      <td>DELAWARE</td>\n",
       "      <td>Astronomical Low Tide</td>\n",
       "      <td>199703</td>\n",
       "      <td>1997-03-18</td>\n",
       "      <td>17232</td>\n",
       "    </tr>\n",
       "    <tr>\n",
       "      <th>26892</th>\n",
       "      <td>NEW JERSEY</td>\n",
       "      <td>Astronomical Low Tide</td>\n",
       "      <td>199703</td>\n",
       "      <td>1997-03-03</td>\n",
       "      <td>17217</td>\n",
       "    </tr>\n",
       "  </tbody>\n",
       "</table>\n",
       "</div>"
      ],
      "text/plain": [
       "            STATE             EVENT_TYPE  BEGIN_YEARMONTH        DATE  \\\n",
       "22087  NEW JERSEY  Astronomical Low Tide           199703  1997-03-12   \n",
       "22088  NEW JERSEY  Astronomical Low Tide           199703  1997-03-01   \n",
       "22089  NEW JERSEY  Astronomical Low Tide           199703  1997-03-14   \n",
       "26506    DELAWARE  Astronomical Low Tide           199703  1997-03-18   \n",
       "26892  NEW JERSEY  Astronomical Low Tide           199703  1997-03-03   \n",
       "\n",
       "       DIST_FROM_START  \n",
       "22087            17226  \n",
       "22088            17215  \n",
       "22089            17228  \n",
       "26506            17232  \n",
       "26892            17217  "
      ]
     },
     "execution_count": 74,
     "metadata": {},
     "output_type": "execute_result"
    }
   ],
   "source": [
    "########################\n",
    "##    Reading data    ##\n",
    "########################\n",
    "\n",
    "data = pd.read_pickle('selected_data.pkl')\n",
    "print('data :', data.shape)\n",
    "data.head()"
   ]
  },
  {
   "cell_type": "code",
   "execution_count": 114,
   "metadata": {},
   "outputs": [],
   "source": [
    "def vectorize(data, event_type, window):\n",
    "    event_data = data[data.EVENT_TYPE==event_type]\n",
    "    \n",
    "    start = event_data.DIST_FROM_START.min()   # start of the timeline\n",
    "    finish = event_data.DIST_FROM_START.max()  # end of the timeline\n",
    "    \n",
    "    result = []\n",
    "    for date in np.arange(start, finish, step=1):\n",
    "        hold = event_data[np.logical_and(event_data.DIST_FROM_START>=date,\n",
    "                                         event_data.DIST_FROM_START<date+1)]\n",
    "        result.append(hold.shape[0])\n",
    "    return np.array(result)\n",
    "\n",
    "def process(data, event_types, window, file_name):\n",
    "    result = {event_type:vectorize(data, event_type, window) for event_type in tqdm(event_types)}\n",
    "    file = open(file_name, 'wb')\n",
    "    pickle.dump(result, file)\n",
    "    file.close()\n"
   ]
  },
  {
   "cell_type": "code",
   "execution_count": 115,
   "metadata": {},
   "outputs": [],
   "source": [
    "event_types = data.EVENT_TYPE.unique()\n",
    "\n",
    "event_types_0 = event_types[:event_types.shape[0]//4]\n",
    "event_types_1 = event_types[event_types.shape[0]//4:event_types.shape[0]//2]\n",
    "event_types_2 = event_types[event_types.shape[0]//2:event_types.shape[0]*3//4]\n",
    "event_types_3 = event_types[event_types.shape[0]*3//4:]\n",
    "\n",
    "assert (event_types_0.shape[0]+\n",
    "        event_types_1.shape[0]+\n",
    "        event_types_2.shape[0]+\n",
    "        event_types_3.shape[0]) == event_types.shape[0]"
   ]
  },
  {
   "cell_type": "code",
   "execution_count": 116,
   "metadata": {},
   "outputs": [
    {
     "name": "stderr",
     "output_type": "stream",
     "text": [
      "100%|██████████| 13/13 [01:36<00:00,  7.70s/it]\n",
      "100%|██████████| 13/13 [01:59<00:00,  8.27s/it]\n",
      "100%|██████████| 14/14 [02:03<00:00,  8.61s/it]\n",
      "100%|██████████| 13/13 [02:09<00:00,  8.01s/it]\n"
     ]
    }
   ],
   "source": [
    "window = 1\n",
    "\n",
    "p0 = multiprocessing.Process(target=process, args=(data, event_types_0, window, 'vecs/process_0.npy'))\n",
    "p1 = multiprocessing.Process(target=process, args=(data, event_types_1, window, 'vecs/process_1.npy'))\n",
    "p2 = multiprocessing.Process(target=process, args=(data, event_types_2, window, 'vecs/process_2.npy'))\n",
    "p3 = multiprocessing.Process(target=process, args=(data, event_types_3, window, 'vecs/process_3.npy'))\n",
    "\n",
    "p0.start()\n",
    "p1.start()\n",
    "p2.start()\n",
    "p3.start()\n",
    "\n",
    "p0.join()\n",
    "p1.join()\n",
    "p2.join()\n",
    "p3.join()"
   ]
  },
  {
   "cell_type": "code",
   "execution_count": null,
   "metadata": {},
   "outputs": [],
   "source": []
  }
 ],
 "metadata": {
  "kernelspec": {
   "display_name": "Python 3",
   "language": "python",
   "name": "python3"
  },
  "language_info": {
   "codemirror_mode": {
    "name": "ipython",
    "version": 3
   },
   "file_extension": ".py",
   "mimetype": "text/x-python",
   "name": "python",
   "nbconvert_exporter": "python",
   "pygments_lexer": "ipython3",
   "version": "3.8.8"
  }
 },
 "nbformat": 4,
 "nbformat_minor": 2
}
