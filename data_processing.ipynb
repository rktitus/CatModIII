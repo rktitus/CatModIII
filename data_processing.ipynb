{
 "cells": [
  {
   "cell_type": "code",
   "execution_count": 3,
   "metadata": {},
   "outputs": [],
   "source": [
    "import os\n",
    "import datetime\n",
    "import threading\n",
    "import numpy as np\n",
    "import pandas as pd\n",
    "import multiprocessing\n",
    "from tqdm import tqdm, tqdm_notebook\n",
    "from matplotlib import pyplot as plt\n",
    "\n",
    "# %matplotlib notebook"
   ]
  },
  {
   "cell_type": "markdown",
   "metadata": {},
   "source": [
    "\n",
    "<br>\n",
    "This is how data splitting shall be done:\n",
    "               \n",
    "                         -------------------------->                     ------------>\n",
    "                      -------------------------->                     ------------>\n",
    "                   ------------------------->                     ------------>\n",
    "                __________   ___________   ___________   _______   ____________\n",
    "              _/ 3 window \\_/ 33 window \\_/ 63 window \\_/ ..... \\_/ N+3 window \\_\n",
    "            __________   ___________   ___________   _______   ____________\n",
    "          _/ 2 window \\_/ 32 window \\_/ 62 window \\_/ ..... \\_/ N+1 window \\_\n",
    "        __________   ___________   ___________   _______   __________\n",
    "      _/ 1 window \\_/ 31 window \\_/ 61 window \\_/ ..... \\_/ N window \\_\n",
    "    1996.01------1996.07------1997.01------1997.07------_____............------2018.01\n",
    "    __________________________________________________________________________________\n",
    "\n",
    "Each resulting data-point will be a 1d histogram (histogram over the states) and it will have depth each layer of which will represent the count of each event type taken place in the given state.\n",
    "<br> <br>"
   ]
  },
  {
   "cell_type": "code",
   "execution_count": 5,
   "metadata": {},
   "outputs": [
    {
     "name": "stdout",
     "output_type": "stream",
     "text": [
      "data : (1301399, 5)\n"
     ]
    },
    {
     "data": {
      "text/html": [
       "<div>\n",
       "<style scoped>\n",
       "    .dataframe tbody tr th:only-of-type {\n",
       "        vertical-align: middle;\n",
       "    }\n",
       "\n",
       "    .dataframe tbody tr th {\n",
       "        vertical-align: top;\n",
       "    }\n",
       "\n",
       "    .dataframe thead th {\n",
       "        text-align: right;\n",
       "    }\n",
       "</style>\n",
       "<table border=\"1\" class=\"dataframe\">\n",
       "  <thead>\n",
       "    <tr style=\"text-align: right;\">\n",
       "      <th></th>\n",
       "      <th>STATE</th>\n",
       "      <th>EVENT_TYPE</th>\n",
       "      <th>BEGIN_YEARMONTH</th>\n",
       "      <th>DATE</th>\n",
       "      <th>DIST_FROM_START</th>\n",
       "    </tr>\n",
       "  </thead>\n",
       "  <tbody>\n",
       "    <tr>\n",
       "      <th>22087</th>\n",
       "      <td>NEW JERSEY</td>\n",
       "      <td>Astronomical Low Tide</td>\n",
       "      <td>199703</td>\n",
       "      <td>1997-03-12</td>\n",
       "      <td>17226</td>\n",
       "    </tr>\n",
       "    <tr>\n",
       "      <th>22088</th>\n",
       "      <td>NEW JERSEY</td>\n",
       "      <td>Astronomical Low Tide</td>\n",
       "      <td>199703</td>\n",
       "      <td>1997-03-01</td>\n",
       "      <td>17215</td>\n",
       "    </tr>\n",
       "    <tr>\n",
       "      <th>22089</th>\n",
       "      <td>NEW JERSEY</td>\n",
       "      <td>Astronomical Low Tide</td>\n",
       "      <td>199703</td>\n",
       "      <td>1997-03-14</td>\n",
       "      <td>17228</td>\n",
       "    </tr>\n",
       "    <tr>\n",
       "      <th>26506</th>\n",
       "      <td>DELAWARE</td>\n",
       "      <td>Astronomical Low Tide</td>\n",
       "      <td>199703</td>\n",
       "      <td>1997-03-18</td>\n",
       "      <td>17232</td>\n",
       "    </tr>\n",
       "    <tr>\n",
       "      <th>26892</th>\n",
       "      <td>NEW JERSEY</td>\n",
       "      <td>Astronomical Low Tide</td>\n",
       "      <td>199703</td>\n",
       "      <td>1997-03-03</td>\n",
       "      <td>17217</td>\n",
       "    </tr>\n",
       "  </tbody>\n",
       "</table>\n",
       "</div>"
      ],
      "text/plain": [
       "            STATE             EVENT_TYPE  BEGIN_YEARMONTH        DATE  \\\n",
       "22087  NEW JERSEY  Astronomical Low Tide           199703  1997-03-12   \n",
       "22088  NEW JERSEY  Astronomical Low Tide           199703  1997-03-01   \n",
       "22089  NEW JERSEY  Astronomical Low Tide           199703  1997-03-14   \n",
       "26506    DELAWARE  Astronomical Low Tide           199703  1997-03-18   \n",
       "26892  NEW JERSEY  Astronomical Low Tide           199703  1997-03-03   \n",
       "\n",
       "       DIST_FROM_START  \n",
       "22087            17226  \n",
       "22088            17215  \n",
       "22089            17228  \n",
       "26506            17232  \n",
       "26892            17217  "
      ]
     },
     "execution_count": 5,
     "metadata": {},
     "output_type": "execute_result"
    }
   ],
   "source": [
    "########################\n",
    "##    Reading data    ##\n",
    "########################\n",
    "\n",
    "data = pd.read_pickle('selected_data.pkl')\n",
    "print('data :', data.shape)\n",
    "data.head()"
   ]
  },
  {
   "cell_type": "code",
   "execution_count": 6,
   "metadata": {},
   "outputs": [],
   "source": [
    "#######################################\n",
    "##    Split with the given window    ##\n",
    "#######################################\n",
    "\n",
    "def split(data, window):\n",
    "    start = data.DIST_FROM_START.min()   # start of the timeline\n",
    "    finish = data.DIST_FROM_START.max()  # end of the timeline\n",
    "    splits = []\n",
    "    chunk_count = 0\n",
    "    for date in tqdm(np.arange(start, finish)):\n",
    "        hold = data[np.logical_and(data.DIST_FROM_START>=date, data.DIST_FROM_START<date+window)]\n",
    "        splits.append(hold)\n",
    "    return splits"
   ]
  },
  {
   "cell_type": "code",
   "execution_count": 7,
   "metadata": {
    "scrolled": true
   },
   "outputs": [
    {
     "name": "stderr",
     "output_type": "stream",
     "text": [
      "100%|██████████| 8397/8397 [00:50<00:00, 165.88it/s]\n"
     ]
    }
   ],
   "source": [
    "##################################################\n",
    "##          This is the most heavy part         ##\n",
    "##    After running, \"splits\" results to 22GB   ##\n",
    "##################################################\n",
    "\n",
    "splits = split(data, 6*30)"
   ]
  },
  {
   "cell_type": "code",
   "execution_count": 10,
   "metadata": {},
   "outputs": [
    {
     "name": "stderr",
     "output_type": "stream",
     "text": [
      "8397it [04:39, 30.06it/s] \n"
     ]
    }
   ],
   "source": [
    "############################################\n",
    "##   Saving the resulting 11 GB of data   ##\n",
    "############################################\n",
    "\n",
    "if not os.path.exists('splited_data'):\n",
    "    os.makedirs('splited_data')\n",
    "\n",
    "for i, split in tqdm(enumerate(splits)):\n",
    "    split.to_pickle('splited_data/split_{}.pkl'.format(i))"
   ]
  },
  {
   "cell_type": "markdown",
   "metadata": {},
   "source": [
    "<br>\n",
    "Now we have the 6-month splits and it's time to make the final data-structure for them model.\n",
    "<hr>\n",
    "It will be a matrix with len(states) rows and len(event_types) columns. So that in each matrix[i, j] element the number of j-th events that occured in i-th state will be written.\n",
    "<br> <br>"
   ]
  },
  {
   "cell_type": "code",
   "execution_count": 6,
   "metadata": {},
   "outputs": [
    {
     "name": "stdout",
     "output_type": "stream",
     "text": [
      "event_types  : 53\n",
      "states       : 68\n",
      "\n",
      "So our final data-point will be a matrix with shape (68, 53)\n"
     ]
    }
   ],
   "source": [
    "event_types = data.EVENT_TYPE.unique()\n",
    "states = data.STATE.unique()\n",
    "\n",
    "print('event_types  :', event_types.shape[0])\n",
    "print('states       :', states.shape[0], end='\\n\\n')\n",
    "print('So our final data-point will be a matrix with shape ({}, {})'.format(states.shape[0], \n",
    "                                                                            event_types.shape[0]))"
   ]
  },
  {
   "cell_type": "code",
   "execution_count": 19,
   "metadata": {
    "scrolled": true
   },
   "outputs": [],
   "source": [
    "###############################\n",
    "##    Making the matrixes    ##\n",
    "###############################\n",
    "\n",
    "def make_matrixes(file_names, save_path):\n",
    "    chunk_count = 0\n",
    "    matrix_data = []\n",
    "    for file_name in tqdm(file_names):\n",
    "        hold = pd.read_pickle(file_name)\n",
    "        matrix = []\n",
    "        for state in states:\n",
    "            state_data = hold[hold.STATE==state]\n",
    "            state_vec = []\n",
    "            for event_type in event_types:\n",
    "                state_vec.append(np.sum(state_data.EVENT_TYPE==event_type))\n",
    "            matrix.append(state_vec)\n",
    "        matrix_data.append(matrix)\n",
    "    np.save(os.path.join(save_path,'matrixes.npy'),matrix_data)\n",
    "    print('\\n\\t Done ! \\n\\n')"
   ]
  },
  {
   "cell_type": "code",
   "execution_count": 26,
   "metadata": {},
   "outputs": [
    {
     "name": "stdout",
     "output_type": "stream",
     "text": [
      "file_names_0 : 2100\n",
      "file_names_1 : 2099\n",
      "file_names_2 : 2099\n",
      "file_names_3 : 2099\n"
     ]
    }
   ],
   "source": [
    "#############################################################\n",
    "##   Seperating the tast to 4 processes(processor cores)   ##\n",
    "#############################################################\n",
    "\n",
    "file_names_0 = []\n",
    "file_names_1 = []\n",
    "file_names_2 = []\n",
    "file_names_3 = []\n",
    "\n",
    "#####################################\n",
    "##   Checking correct indexation   ##\n",
    "#####################################\n",
    "assert (set(map(lambda x: int(x[6:-4]), os.listdir('splited_data')))==\n",
    "        set(range(min(map(lambda x: int(x[6:-4]), os.listdir('splited_data'))), \n",
    "                  max(map(lambda x: int(x[6:-4]), os.listdir('splited_data')))+1)))\n",
    "\n",
    "for i in range(min(map(lambda x: int(x[6:-4]), os.listdir('splited_data'))), \n",
    "               max(map(lambda x: int(x[6:-4]), os.listdir('splited_data')))+1):\n",
    "    if i%4==0:\n",
    "        file_names_0.append('splited_data/split_{}.pkl'.format(i))\n",
    "    elif i%4==1:\n",
    "        file_names_1.append('splited_data/split_{}.pkl'.format(i))\n",
    "    elif i%4==2:\n",
    "        file_names_2.append('splited_data/split_{}.pkl'.format(i))\n",
    "    else:\n",
    "        file_names_3.append('splited_data/split_{}.pkl'.format(i))\n",
    "\n",
    "print('file_names_0 :', len(file_names_0))\n",
    "print('file_names_1 :', len(file_names_1))\n",
    "print('file_names_2 :', len(file_names_2))\n",
    "print('file_names_3 :', len(file_names_3))"
   ]
  },
  {
   "cell_type": "code",
   "execution_count": 28,
   "metadata": {},
   "outputs": [
    {
     "name": "stderr",
     "output_type": "stream",
     "text": [
      "100%|██████████| 2099/2099 [1:08:37<00:00,  1.36s/it]\n",
      "100%|█████████▉| 2093/2099 [1:08:37<00:08,  1.37s/it]"
     ]
    },
    {
     "name": "stdout",
     "output_type": "stream",
     "text": [
      "\n",
      "\t Done ! \n",
      "\n",
      "\n"
     ]
    },
    {
     "name": "stderr",
     "output_type": "stream",
     "text": [
      "100%|██████████| 2100/2100 [1:08:38<00:00,  1.34s/it]\n",
      "100%|█████████▉| 2094/2099 [1:08:39<00:06,  1.35s/it]"
     ]
    },
    {
     "name": "stdout",
     "output_type": "stream",
     "text": [
      "\n",
      "\t Done ! \n",
      "\n",
      "\n"
     ]
    },
    {
     "name": "stderr",
     "output_type": "stream",
     "text": [
      "100%|██████████| 2099/2099 [1:08:39<00:00,  1.35s/it]\n"
     ]
    },
    {
     "name": "stdout",
     "output_type": "stream",
     "text": [
      "\n",
      "\t Done ! \n",
      "\n",
      "\n"
     ]
    },
    {
     "name": "stderr",
     "output_type": "stream",
     "text": [
      "100%|██████████| 2099/2099 [1:08:45<00:00,  1.25s/it]\n"
     ]
    },
    {
     "name": "stdout",
     "output_type": "stream",
     "text": [
      "\n",
      "\t Done ! \n",
      "\n",
      "\n"
     ]
    }
   ],
   "source": [
    "################################\n",
    "##    Runing the processes    ##\n",
    "################################\n",
    "\n",
    "p0 = multiprocessing.Process(target=make_matrixes, args=(file_names_0, 'matrix_data/process_0'))\n",
    "p1 = multiprocessing.Process(target=make_matrixes, args=(file_names_1, 'matrix_data/process_1'))\n",
    "p2 = multiprocessing.Process(target=make_matrixes, args=(file_names_2, 'matrix_data/process_2'))\n",
    "p3 = multiprocessing.Process(target=make_matrixes, args=(file_names_3, 'matrix_data/process_3'))\n",
    "\n",
    "p0.start()\n",
    "p1.start()\n",
    "p2.start()\n",
    "p3.start()\n",
    "\n",
    "p0.join()\n",
    "p1.join()\n",
    "p2.join()\n",
    "p3.join()"
   ]
  },
  {
   "cell_type": "code",
   "execution_count": null,
   "metadata": {},
   "outputs": [],
   "source": []
  }
 ],
 "metadata": {
  "kernelspec": {
   "display_name": "Python 3",
   "language": "python",
   "name": "python3"
  },
  "language_info": {
   "codemirror_mode": {
    "name": "ipython",
    "version": 3
   },
   "file_extension": ".py",
   "mimetype": "text/x-python",
   "name": "python",
   "nbconvert_exporter": "python",
   "pygments_lexer": "ipython3",
   "version": "3.8.8"
  }
 },
 "nbformat": 4,
 "nbformat_minor": 2
}
